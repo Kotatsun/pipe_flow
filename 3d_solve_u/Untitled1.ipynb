{
 "cells": [
  {
   "cell_type": "code",
   "execution_count": 1,
   "metadata": {},
   "outputs": [
    {
     "name": "stdout",
     "output_type": "stream",
     "text": [
      "Defaulting to user installation because normal site-packages is not writeable\n",
      "Collecting sympy\n",
      "  Downloading sympy-1.6.2-py3-none-any.whl (5.8 MB)\n",
      "\u001b[K     |████████████████████████████████| 5.8 MB 3.8 MB/s eta 0:00:01\n",
      "\u001b[?25hCollecting mpmath>=0.19\n",
      "  Downloading mpmath-1.1.0.tar.gz (512 kB)\n",
      "\u001b[K     |████████████████████████████████| 512 kB 70.0 MB/s eta 0:00:01\n",
      "\u001b[?25hBuilding wheels for collected packages: mpmath\n",
      "  Building wheel for mpmath (setup.py) ... \u001b[?25ldone\n",
      "\u001b[?25h  Created wheel for mpmath: filename=mpmath-1.1.0-py3-none-any.whl size=532239 sha256=0bf2410ce906245a01f80257abdceb33b705fe9286016ed4d0b5e88bc146ffea\n",
      "  Stored in directory: /mnt/c/Users/koike/Desktop/.cache/pip/wheels/29/2c/1c/d2e4580cde2743b0aef389e936ac21a2db92921ddbca53faa1\n",
      "Successfully built mpmath\n",
      "Installing collected packages: mpmath, sympy\n",
      "Successfully installed mpmath-1.1.0 sympy-1.6.2\n"
     ]
    }
   ],
   "source": [
    "!pip install sympy"
   ]
  },
  {
   "cell_type": "code",
   "execution_count": 2,
   "metadata": {},
   "outputs": [],
   "source": [
    "from sympy import *\n",
    "p1 = Point(0, 0)\n",
    "e1 = Ellipse(p1, 160, 90)"
   ]
  },
  {
   "cell_type": "code",
   "execution_count": 3,
   "metadata": {},
   "outputs": [
    {
     "name": "stdout",
     "output_type": "stream",
     "text": [
      "Point2D(-1/10 + sqrt(19)/5, 2/5 + sqrt(19)/5) Point2D(-sqrt(19)/5 - 1/10, 2/5 - sqrt(19)/5)\n"
     ]
    }
   ],
   "source": [
    "var('xm ym r1 r2 x1 y1 x2 y2')\n",
    "# ci=Circle(Point(xm,ym),r)\n",
    "ci = Ellipse(Point(xm,ym), r1, r2)\n",
    "ln = Line(Point(x1, y1), Point(x2, y2))\n",
    "result=ci.intersection(ln)\n",
    "input={xm:0,ym:0,r1:1,r2:2,x1:0,y1:Rational(1, 2),x2:-Rational(1, 2),y2:0}\n",
    "print(sympify(result[0]).subs(input),sympify(result[1]).subs(input))"
   ]
  },
  {
   "cell_type": "code",
   "execution_count": 20,
   "metadata": {
    "scrolled": true
   },
   "outputs": [
    {
     "name": "stdout",
     "output_type": "stream",
     "text": [
      "0.7717797887081347\n",
      "1.2717797887081348\n"
     ]
    }
   ],
   "source": [
    "print(float(sympify(result[0]).subs(input).x))\n",
    "print(float(sympify(result[0]).subs(input).y))"
   ]
  },
  {
   "cell_type": "code",
   "execution_count": null,
   "metadata": {},
   "outputs": [],
   "source": []
  }
 ],
 "metadata": {
  "kernelspec": {
   "display_name": "Python 3",
   "language": "python",
   "name": "python3"
  },
  "language_info": {
   "codemirror_mode": {
    "name": "ipython",
    "version": 3
   },
   "file_extension": ".py",
   "mimetype": "text/x-python",
   "name": "python",
   "nbconvert_exporter": "python",
   "pygments_lexer": "ipython3",
   "version": "3.8.5"
  }
 },
 "nbformat": 4,
 "nbformat_minor": 4
}
